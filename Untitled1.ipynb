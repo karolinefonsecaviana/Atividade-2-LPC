{
  "nbformat": 4,
  "nbformat_minor": 0,
  "metadata": {
    "colab": {
      "name": "Untitled1.ipynb",
      "provenance": [],
      "authorship_tag": "ABX9TyNMpQPBDIFVTGA2yilYyr5L",
      "include_colab_link": true
    },
    "kernelspec": {
      "name": "python3",
      "display_name": "Python 3"
    }
  },
  "cells": [
    {
      "cell_type": "markdown",
      "metadata": {
        "id": "view-in-github",
        "colab_type": "text"
      },
      "source": [
        "<a href=\"https://colab.research.google.com/github/karolinefonsecaviana/Atividade-2-LPC/blob/master/Untitled1.ipynb\" target=\"_parent\"><img src=\"https://colab.research.google.com/assets/colab-badge.svg\" alt=\"Open In Colab\"/></a>"
      ]
    },
    {
      "cell_type": "code",
      "metadata": {
        "id": "pIsVJLwkOzG7",
        "colab_type": "code",
        "colab": {
          "base_uri": "https://localhost:8080/",
          "height": 578
        },
        "outputId": "1a64c6e4-913f-4e44-aa05-a4df2cf8097c"
      },
      "source": [
        "#ETE PORTO DIGITAL\n",
        "# Atividade 2 LPC\n",
        "#Prof. Cloves Rocha \n",
        "#Aluno(a): Karoline Fonseca Viana \n",
        "\n",
        "A= \"Karoline Fonseca Viana\"\n",
        "print(A)\n",
        "\n",
        "def contagemRegressiva(n=30):\n",
        "  while (n):\n",
        "   print(n)\n",
        "   n = n -1\n",
        "  else: \n",
        "   print(n)\n",
        "contagemRegressiva(30)\n",
        "print('Decolar!')\n",
        "\n",
        "\n",
        "     \n",
        "\n",
        "\n"
      ],
      "execution_count": 22,
      "outputs": [
        {
          "output_type": "stream",
          "text": [
            "Karoline Fonseca Viana\n",
            "30\n",
            "29\n",
            "28\n",
            "27\n",
            "26\n",
            "25\n",
            "24\n",
            "23\n",
            "22\n",
            "21\n",
            "20\n",
            "19\n",
            "18\n",
            "17\n",
            "16\n",
            "15\n",
            "14\n",
            "13\n",
            "12\n",
            "11\n",
            "10\n",
            "9\n",
            "8\n",
            "7\n",
            "6\n",
            "5\n",
            "4\n",
            "3\n",
            "2\n",
            "1\n",
            "0\n",
            "Decolar!\n"
          ],
          "name": "stdout"
        }
      ]
    }
  ]
}